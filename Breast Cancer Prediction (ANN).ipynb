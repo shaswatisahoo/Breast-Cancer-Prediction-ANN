{
 "cells": [
  {
   "cell_type": "markdown",
   "id": "6d6a247a",
   "metadata": {
    "id": "6d6a247a"
   },
   "source": [
    "# Breast Cancer Prediction (ANN)"
   ]
  },
  {
   "cell_type": "code",
   "execution_count": null,
   "id": "e019a627",
   "metadata": {
    "id": "e019a627"
   },
   "outputs": [],
   "source": [
    "#Importing necessary libraries\n",
    "\n",
    "import pandas as pd\n",
    "import numpy as np\n",
    "import tensorflow as tf\n",
    "from sklearn.model_selection import train_test_split\n",
    "from sklearn.preprocessing import StandardScaler\n",
    "from sklearn.metrics import confusion_matrix"
   ]
  },
  {
   "cell_type": "markdown",
   "id": "e2ab8c39",
   "metadata": {
    "id": "e2ab8c39"
   },
   "source": [
    "Next, we'll load the dataset:"
   ]
  },
  {
   "cell_type": "code",
   "execution_count": null,
   "id": "f1882b94",
   "metadata": {
    "id": "f1882b94"
   },
   "outputs": [],
   "source": [
    "data = pd.read_csv('Breast_cancer_data.csv')"
   ]
  },
  {
   "cell_type": "code",
   "execution_count": null,
   "id": "67303018",
   "metadata": {
    "id": "67303018",
    "outputId": "0c27fe22-49f8-4eb2-a237-d4ae038ad191"
   },
   "outputs": [
    {
     "data": {
      "text/html": [
       "<div>\n",
       "<style scoped>\n",
       "    .dataframe tbody tr th:only-of-type {\n",
       "        vertical-align: middle;\n",
       "    }\n",
       "\n",
       "    .dataframe tbody tr th {\n",
       "        vertical-align: top;\n",
       "    }\n",
       "\n",
       "    .dataframe thead th {\n",
       "        text-align: right;\n",
       "    }\n",
       "</style>\n",
       "<table border=\"1\" class=\"dataframe\">\n",
       "  <thead>\n",
       "    <tr style=\"text-align: right;\">\n",
       "      <th></th>\n",
       "      <th>mean_radius</th>\n",
       "      <th>mean_texture</th>\n",
       "      <th>mean_perimeter</th>\n",
       "      <th>mean_area</th>\n",
       "      <th>mean_smoothness</th>\n",
       "      <th>diagnosis</th>\n",
       "    </tr>\n",
       "  </thead>\n",
       "  <tbody>\n",
       "    <tr>\n",
       "      <th>0</th>\n",
       "      <td>17.99</td>\n",
       "      <td>10.38</td>\n",
       "      <td>122.80</td>\n",
       "      <td>1001.0</td>\n",
       "      <td>0.11840</td>\n",
       "      <td>0</td>\n",
       "    </tr>\n",
       "    <tr>\n",
       "      <th>1</th>\n",
       "      <td>20.57</td>\n",
       "      <td>17.77</td>\n",
       "      <td>132.90</td>\n",
       "      <td>1326.0</td>\n",
       "      <td>0.08474</td>\n",
       "      <td>0</td>\n",
       "    </tr>\n",
       "    <tr>\n",
       "      <th>2</th>\n",
       "      <td>19.69</td>\n",
       "      <td>21.25</td>\n",
       "      <td>130.00</td>\n",
       "      <td>1203.0</td>\n",
       "      <td>0.10960</td>\n",
       "      <td>0</td>\n",
       "    </tr>\n",
       "    <tr>\n",
       "      <th>3</th>\n",
       "      <td>11.42</td>\n",
       "      <td>20.38</td>\n",
       "      <td>77.58</td>\n",
       "      <td>386.1</td>\n",
       "      <td>0.14250</td>\n",
       "      <td>0</td>\n",
       "    </tr>\n",
       "    <tr>\n",
       "      <th>4</th>\n",
       "      <td>20.29</td>\n",
       "      <td>14.34</td>\n",
       "      <td>135.10</td>\n",
       "      <td>1297.0</td>\n",
       "      <td>0.10030</td>\n",
       "      <td>0</td>\n",
       "    </tr>\n",
       "  </tbody>\n",
       "</table>\n",
       "</div>"
      ],
      "text/plain": [
       "   mean_radius  mean_texture  mean_perimeter  mean_area  mean_smoothness  \\\n",
       "0        17.99         10.38          122.80     1001.0          0.11840   \n",
       "1        20.57         17.77          132.90     1326.0          0.08474   \n",
       "2        19.69         21.25          130.00     1203.0          0.10960   \n",
       "3        11.42         20.38           77.58      386.1          0.14250   \n",
       "4        20.29         14.34          135.10     1297.0          0.10030   \n",
       "\n",
       "   diagnosis  \n",
       "0          0  \n",
       "1          0  \n",
       "2          0  \n",
       "3          0  \n",
       "4          0  "
      ]
     },
     "execution_count": 3,
     "metadata": {},
     "output_type": "execute_result"
    }
   ],
   "source": [
    "data.head()"
   ]
  },
  {
   "cell_type": "code",
   "execution_count": null,
   "id": "b4142aa7",
   "metadata": {
    "id": "b4142aa7",
    "outputId": "33594b2a-b258-4ace-8639-e9cda97c7691"
   },
   "outputs": [
    {
     "data": {
      "text/plain": [
       "569"
      ]
     },
     "execution_count": 4,
     "metadata": {},
     "output_type": "execute_result"
    }
   ],
   "source": [
    "len(data)"
   ]
  },
  {
   "cell_type": "code",
   "execution_count": null,
   "id": "e56e05b1",
   "metadata": {
    "id": "e56e05b1",
    "outputId": "98a2cd51-7a89-473e-f3b8-e7bd1e9d008e"
   },
   "outputs": [
    {
     "data": {
      "text/plain": [
       "1    357\n",
       "0    212\n",
       "Name: diagnosis, dtype: int64"
      ]
     },
     "execution_count": 5,
     "metadata": {},
     "output_type": "execute_result"
    }
   ],
   "source": [
    "data.diagnosis.value_counts()"
   ]
  },
  {
   "cell_type": "markdown",
   "id": "5091333c",
   "metadata": {
    "id": "5091333c"
   },
   "source": [
    "Split dataset into features and labels:"
   ]
  },
  {
   "cell_type": "code",
   "execution_count": null,
   "id": "58c33312",
   "metadata": {
    "id": "58c33312"
   },
   "outputs": [],
   "source": [
    "X = data.iloc[:, :-1].values\n",
    "y = data.iloc[:, -1].values"
   ]
  },
  {
   "cell_type": "markdown",
   "id": "a6091423",
   "metadata": {
    "id": "a6091423"
   },
   "source": [
    "We'll then split the dataset into training and testing sets:"
   ]
  },
  {
   "cell_type": "code",
   "execution_count": null,
   "id": "58670cfc",
   "metadata": {
    "id": "58670cfc"
   },
   "outputs": [],
   "source": [
    "X_train, X_test, y_train, y_test = train_test_split(X, y, test_size=0.2)"
   ]
  },
  {
   "cell_type": "markdown",
   "id": "85f4a638",
   "metadata": {
    "id": "85f4a638"
   },
   "source": [
    "We'll also standardize the features using the StandardScaler class from sklearn:"
   ]
  },
  {
   "cell_type": "code",
   "execution_count": null,
   "id": "c1ad2271",
   "metadata": {
    "id": "c1ad2271"
   },
   "outputs": [],
   "source": [
    "sc = StandardScaler()\n",
    "X_train = sc.fit_transform(X_train)\n",
    "X_test = sc.transform(X_test)"
   ]
  },
  {
   "cell_type": "markdown",
   "id": "9ccd0948",
   "metadata": {
    "id": "9ccd0948"
   },
   "source": [
    "Now, we'll create the ANN model using TensorFlow:"
   ]
  },
  {
   "cell_type": "code",
   "execution_count": null,
   "id": "d1fb3135",
   "metadata": {
    "id": "d1fb3135"
   },
   "outputs": [],
   "source": [
    "# Now let's make the ANN!\n",
    "# Importing the Keras libraries and packages\n",
    "\n",
    "from tensorflow.keras.models import Sequential\n",
    "from tensorflow.keras.layers import Dense"
   ]
  },
  {
   "cell_type": "code",
   "execution_count": null,
   "id": "c14c7b57",
   "metadata": {
    "id": "c14c7b57"
   },
   "outputs": [],
   "source": [
    "# Initialising the ANN\n",
    "classifier = Sequential()\n",
    "\n",
    "# Adding the input layer and the first hidden layer\n",
    "classifier.add(Dense(units = 16, kernel_initializer = 'uniform', activation = 'relu', input_dim = 5))\n",
    "\n",
    "# Adding the second hidden layer\n",
    "classifier.add(Dense(units = 8, kernel_initializer = 'uniform', activation = 'relu'))\n",
    "\n",
    "# Adding the third  hidden layer\n",
    "classifier.add(Dense(units = 4, kernel_initializer = 'uniform', activation = 'relu'))\n",
    "\n",
    "# Adding the output layer\n",
    "classifier.add(Dense(units = 1, kernel_initializer = 'uniform', activation = 'sigmoid'))"
   ]
  },
  {
   "cell_type": "code",
   "execution_count": null,
   "id": "932c968d",
   "metadata": {
    "id": "932c968d",
    "outputId": "51de38cb-1be3-4f66-f75c-a47d2cf960a8"
   },
   "outputs": [
    {
     "data": {
      "text/plain": [
       "455"
      ]
     },
     "execution_count": 11,
     "metadata": {},
     "output_type": "execute_result"
    }
   ],
   "source": [
    "len(X_train)"
   ]
  },
  {
   "cell_type": "code",
   "execution_count": null,
   "id": "fe9c1c77",
   "metadata": {
    "id": "fe9c1c77",
    "outputId": "a059828f-c593-4019-888e-6b97a0c303fd"
   },
   "outputs": [
    {
     "data": {
      "text/plain": [
       "114"
      ]
     },
     "execution_count": 12,
     "metadata": {},
     "output_type": "execute_result"
    }
   ],
   "source": [
    "len(X_test)"
   ]
  },
  {
   "cell_type": "code",
   "execution_count": null,
   "id": "8e9b7f8b",
   "metadata": {
    "id": "8e9b7f8b",
    "outputId": "195bf97e-9296-49e9-f6a9-8d1eff22634e"
   },
   "outputs": [
    {
     "name": "stdout",
     "output_type": "stream",
     "text": [
      "Epoch 1/50\n",
      "46/46 [==============================] - 0s 801us/step - loss: 0.6899 - accuracy: 0.6396\n",
      "Epoch 2/50\n",
      "46/46 [==============================] - 0s 913us/step - loss: 0.6622 - accuracy: 0.6396\n",
      "Epoch 3/50\n",
      "46/46 [==============================] - 0s 826us/step - loss: 0.5299 - accuracy: 0.6396\n",
      "Epoch 4/50\n",
      "46/46 [==============================] - 0s 913us/step - loss: 0.3922 - accuracy: 0.6396\n",
      "Epoch 5/50\n",
      "46/46 [==============================] - 0s 827us/step - loss: 0.3635 - accuracy: 0.6396\n",
      "Epoch 6/50\n",
      "46/46 [==============================] - 0s 870us/step - loss: 0.3532 - accuracy: 0.8879\n",
      "Epoch 7/50\n",
      "46/46 [==============================] - 0s 891us/step - loss: 0.3455 - accuracy: 0.9253\n",
      "Epoch 8/50\n",
      "46/46 [==============================] - 0s 848us/step - loss: 0.3381 - accuracy: 0.9297\n",
      "Epoch 9/50\n",
      "46/46 [==============================] - 0s 826us/step - loss: 0.3318 - accuracy: 0.9319\n",
      "Epoch 10/50\n",
      "46/46 [==============================] - 0s 1ms/step - loss: 0.3266 - accuracy: 0.9319\n",
      "Epoch 11/50\n",
      "46/46 [==============================] - 0s 935us/step - loss: 0.3220 - accuracy: 0.9297\n",
      "Epoch 12/50\n",
      "46/46 [==============================] - 0s 823us/step - loss: 0.3168 - accuracy: 0.9319\n",
      "Epoch 13/50\n",
      "46/46 [==============================] - 0s 1ms/step - loss: 0.3125 - accuracy: 0.9275\n",
      "Epoch 14/50\n",
      "46/46 [==============================] - 0s 826us/step - loss: 0.3071 - accuracy: 0.9319\n",
      "Epoch 15/50\n",
      "46/46 [==============================] - 0s 913us/step - loss: 0.3026 - accuracy: 0.9319\n",
      "Epoch 16/50\n",
      "46/46 [==============================] - 0s 957us/step - loss: 0.2980 - accuracy: 0.9297\n",
      "Epoch 17/50\n",
      "46/46 [==============================] - 0s 870us/step - loss: 0.2939 - accuracy: 0.9319\n",
      "Epoch 18/50\n",
      "46/46 [==============================] - 0s 848us/step - loss: 0.2892 - accuracy: 0.9341\n",
      "Epoch 19/50\n",
      "46/46 [==============================] - 0s 851us/step - loss: 0.2858 - accuracy: 0.9363\n",
      "Epoch 20/50\n",
      "46/46 [==============================] - 0s 913us/step - loss: 0.2814 - accuracy: 0.9363\n",
      "Epoch 21/50\n",
      "46/46 [==============================] - 0s 915us/step - loss: 0.2774 - accuracy: 0.9363\n",
      "Epoch 22/50\n",
      "46/46 [==============================] - 0s 848us/step - loss: 0.2737 - accuracy: 0.9385\n",
      "Epoch 23/50\n",
      "46/46 [==============================] - 0s 805us/step - loss: 0.2705 - accuracy: 0.9385\n",
      "Epoch 24/50\n",
      "46/46 [==============================] - 0s 826us/step - loss: 0.2671 - accuracy: 0.9363\n",
      "Epoch 25/50\n",
      "46/46 [==============================] - 0s 826us/step - loss: 0.2636 - accuracy: 0.9385\n",
      "Epoch 26/50\n",
      "46/46 [==============================] - 0s 848us/step - loss: 0.2597 - accuracy: 0.9385\n",
      "Epoch 27/50\n",
      "46/46 [==============================] - 0s 870us/step - loss: 0.2575 - accuracy: 0.9385\n",
      "Epoch 28/50\n",
      "46/46 [==============================] - 0s 913us/step - loss: 0.2548 - accuracy: 0.9429\n",
      "Epoch 29/50\n",
      "46/46 [==============================] - 0s 826us/step - loss: 0.2516 - accuracy: 0.9429\n",
      "Epoch 30/50\n",
      "46/46 [==============================] - 0s 805us/step - loss: 0.2479 - accuracy: 0.9429\n",
      "Epoch 31/50\n",
      "46/46 [==============================] - 0s 890us/step - loss: 0.2446 - accuracy: 0.9429\n",
      "Epoch 32/50\n",
      "46/46 [==============================] - 0s 848us/step - loss: 0.2430 - accuracy: 0.9429\n",
      "Epoch 33/50\n",
      "46/46 [==============================] - 0s 848us/step - loss: 0.2399 - accuracy: 0.9429\n",
      "Epoch 34/50\n",
      "46/46 [==============================] - 0s 913us/step - loss: 0.2373 - accuracy: 0.9429\n",
      "Epoch 35/50\n",
      "46/46 [==============================] - 0s 783us/step - loss: 0.2348 - accuracy: 0.9429\n",
      "Epoch 36/50\n",
      "46/46 [==============================] - 0s 913us/step - loss: 0.2328 - accuracy: 0.9451\n",
      "Epoch 37/50\n",
      "46/46 [==============================] - 0s 870us/step - loss: 0.2312 - accuracy: 0.9451\n",
      "Epoch 38/50\n",
      "46/46 [==============================] - 0s 1ms/step - loss: 0.2279 - accuracy: 0.9451\n",
      "Epoch 39/50\n",
      "46/46 [==============================] - 0s 1ms/step - loss: 0.2259 - accuracy: 0.9451\n",
      "Epoch 40/50\n",
      "46/46 [==============================] - 0s 1ms/step - loss: 0.2244 - accuracy: 0.9451\n",
      "Epoch 41/50\n",
      "46/46 [==============================] - 0s 1ms/step - loss: 0.2223 - accuracy: 0.9473\n",
      "Epoch 42/50\n",
      "46/46 [==============================] - 0s 1ms/step - loss: 0.2199 - accuracy: 0.9473\n",
      "Epoch 43/50\n",
      "46/46 [==============================] - 0s 1ms/step - loss: 0.2192 - accuracy: 0.9451\n",
      "Epoch 44/50\n",
      "46/46 [==============================] - 0s 1ms/step - loss: 0.2161 - accuracy: 0.9473\n",
      "Epoch 45/50\n",
      "46/46 [==============================] - 0s 1ms/step - loss: 0.2160 - accuracy: 0.9473\n",
      "Epoch 46/50\n",
      "46/46 [==============================] - 0s 1ms/step - loss: 0.2154 - accuracy: 0.9429\n",
      "Epoch 47/50\n",
      "46/46 [==============================] - 0s 1ms/step - loss: 0.2120 - accuracy: 0.9473\n",
      "Epoch 48/50\n",
      "46/46 [==============================] - 0s 1ms/step - loss: 0.2107 - accuracy: 0.9451\n",
      "Epoch 49/50\n",
      "46/46 [==============================] - 0s 957us/step - loss: 0.2087 - accuracy: 0.9473\n",
      "Epoch 50/50\n",
      "46/46 [==============================] - 0s 1ms/step - loss: 0.2074 - accuracy: 0.9473\n"
     ]
    },
    {
     "data": {
      "text/plain": [
       "<tensorflow.python.keras.callbacks.History at 0x183058a5790>"
      ]
     },
     "execution_count": 13,
     "metadata": {},
     "output_type": "execute_result"
    }
   ],
   "source": [
    "# Compiling the ANN\n",
    "\n",
    "classifier.compile(optimizer = 'adam', loss = 'binary_crossentropy', metrics = ['accuracy'])\n",
    "classifier.fit(X_train, y_train, batch_size = 10, epochs = 50)"
   ]
  },
  {
   "cell_type": "code",
   "execution_count": null,
   "id": "201ff1a8",
   "metadata": {
    "id": "201ff1a8",
    "outputId": "4b72e6de-08c0-4b45-af1a-f96e95b9577b"
   },
   "outputs": [
    {
     "name": "stdout",
     "output_type": "stream",
     "text": [
      "[[40  8]\n",
      " [ 2 64]]\n"
     ]
    }
   ],
   "source": [
    "# Part 3 - Making predictions and evaluating the model\n",
    "# Predicting the Test set results\n",
    "y_pred_ann = classifier.predict(X_test)\n",
    "y_pred_ann = (y_pred_ann > 0.5)\n",
    "\n",
    "cm3 = confusion_matrix(y_test, y_pred_ann)\n",
    "print(cm3)"
   ]
  },
  {
   "cell_type": "code",
   "execution_count": null,
   "id": "e65ce597",
   "metadata": {
    "id": "e65ce597",
    "outputId": "7df1257a-afc1-40cb-93d7-c55e0eacb922"
   },
   "outputs": [
    {
     "name": "stdout",
     "output_type": "stream",
     "text": [
      "91.22807017543859\n"
     ]
    }
   ],
   "source": [
    "# Making the Confusion Matrix\n",
    "from sklearn.metrics import accuracy_score\n",
    "\n",
    "score3 = accuracy_score(y_test,y_pred_ann)\n",
    "print(score3*100)"
   ]
  },
  {
   "cell_type": "markdown",
   "id": "59eaa53b",
   "metadata": {
    "id": "59eaa53b"
   },
   "source": [
    "### Accuracy from ANN: 91%"
   ]
  },
  {
   "cell_type": "markdown",
   "id": "f82644c7",
   "metadata": {
    "id": "59e63022"
   },
   "source": [
    "### Conclusion:\n",
    "\n",
    "So, as we have already seen, by using 2 hidden layered ANN, we aren't able to get beyond 91% accuracy, ofcourse we can get higher accuracy by increasing the epochs & doing some hyperparameter tuning, so on the other hand, the classical models can also be tuned further.\n",
    "\n",
    "Try to start with classical machine learning models. If we aren't able to increase the performance, then move towards Deep Learning techniques."
   ]
  },
  {
   "cell_type": "markdown",
   "id": "7407ceab",
   "metadata": {
    "id": "7407ceab"
   },
   "source": [
    "# Hyper Parameter Tuning\n"
   ]
  },
  {
   "cell_type": "code",
   "execution_count": null,
   "id": "b8333024",
   "metadata": {
    "id": "b8333024"
   },
   "outputs": [],
   "source": [
    "#Importing few libraries for k-folds\n",
    "\n",
    "from tensorflow.keras.wrappers.scikit_learn import KerasClassifier\n",
    "from sklearn.model_selection import cross_val_score\n",
    "from tensorflow.keras.models import Sequential\n",
    "from tensorflow.keras.layers import Dense\n",
    "\n",
    "def build_classifier():\n",
    "    classifier = Sequential()\n",
    "    classifier.add(Dense(units = 16, kernel_initializer = 'uniform', activation = 'relu', input_dim = 5))\n",
    "    classifier.add(Dense(units = 8, kernel_initializer = 'uniform', activation = 'relu'))\n",
    "    classifier.add(Dense(units = 4, kernel_initializer = 'uniform', activation = 'relu'))\n",
    "    classifier.add(Dense(units = 1, kernel_initializer = 'uniform', activation = 'sigmoid'))\n",
    "    classifier.compile(optimizer = 'adam', loss = 'binary_crossentropy', metrics = ['accuracy'])\n",
    "    return classifier\n",
    "\n",
    "classifier = KerasClassifier(build_fn = build_classifier, batch_size = 10, epochs = 50)\n",
    "\n",
    "accuracies = cross_val_score(estimator = classifier, X = X_train, y = y_train, cv =10, n_jobs = -1 )\n",
    "mean1 = accuracies.mean()\n",
    "variance = accuracies.std()"
   ]
  },
  {
   "cell_type": "code",
   "execution_count": null,
   "id": "213c0c10",
   "metadata": {
    "id": "213c0c10",
    "outputId": "1c7e8f6f-2a23-47f1-9977-cdfc38cc3083"
   },
   "outputs": [
    {
     "data": {
      "text/plain": [
       "0.11126456226032919"
      ]
     },
     "execution_count": 29,
     "metadata": {},
     "output_type": "execute_result"
    }
   ],
   "source": [
    "variance"
   ]
  },
  {
   "cell_type": "code",
   "execution_count": null,
   "id": "dadfe52b",
   "metadata": {
    "id": "dadfe52b",
    "outputId": "44addc17-8753-48e8-c507-181703efff63"
   },
   "outputs": [
    {
     "data": {
      "text/plain": [
       "array([0.93478262, 0.93478262, 0.5869565 , 0.95652175, 0.9130435 ,\n",
       "       0.93333334, 0.97777778, 0.97777778, 0.86666667, 0.97777778])"
      ]
     },
     "execution_count": 30,
     "metadata": {},
     "output_type": "execute_result"
    }
   ],
   "source": [
    "accuracies"
   ]
  },
  {
   "cell_type": "code",
   "execution_count": null,
   "id": "86d0bc8f",
   "metadata": {
    "id": "86d0bc8f",
    "outputId": "12057613-1b0d-42a6-ca7f-d299a1c47007"
   },
   "outputs": [
    {
     "data": {
      "text/plain": [
       "0.9059420347213745"
      ]
     },
     "execution_count": 31,
     "metadata": {},
     "output_type": "execute_result"
    }
   ],
   "source": [
    "mean1"
   ]
  },
  {
   "cell_type": "code",
   "execution_count": null,
   "id": "cc8f8491",
   "metadata": {
    "id": "cc8f8491",
    "outputId": "47fb769a-3a42-4c27-bc0b-7846b3c884ac"
   },
   "outputs": [
    {
     "name": "stdout",
     "output_type": "stream",
     "text": [
      "Epoch 1/100\n",
      "15/15 [==============================] - 0s 1ms/step - loss: 0.6922 - accuracy: 0.6242\n",
      "Epoch 2/100\n",
      "15/15 [==============================] - 0s 1ms/step - loss: 0.6901 - accuracy: 0.6396\n",
      "Epoch 3/100\n",
      "15/15 [==============================] - 0s 1ms/step - loss: 0.6874 - accuracy: 0.6396\n",
      "Epoch 4/100\n",
      "15/15 [==============================] - 0s 1ms/step - loss: 0.6827 - accuracy: 0.6396\n",
      "Epoch 5/100\n",
      "15/15 [==============================] - 0s 933us/step - loss: 0.6727 - accuracy: 0.6396\n",
      "Epoch 6/100\n",
      "15/15 [==============================] - 0s 934us/step - loss: 0.6514 - accuracy: 0.6396\n",
      "Epoch 7/100\n",
      "15/15 [==============================] - 0s 1ms/step - loss: 0.6124 - accuracy: 0.6396\n",
      "Epoch 8/100\n",
      "15/15 [==============================] - 0s 934us/step - loss: 0.5523 - accuracy: 0.6396\n",
      "Epoch 9/100\n",
      "15/15 [==============================] - 0s 1ms/step - loss: 0.4843 - accuracy: 0.6396\n",
      "Epoch 10/100\n",
      "15/15 [==============================] - 0s 867us/step - loss: 0.4242 - accuracy: 0.6396\n",
      "Epoch 11/100\n",
      "15/15 [==============================] - 0s 933us/step - loss: 0.3853 - accuracy: 0.6989\n",
      "Epoch 12/100\n",
      "15/15 [==============================] - 0s 934us/step - loss: 0.3611 - accuracy: 0.8945\n",
      "Epoch 13/100\n",
      "15/15 [==============================] - 0s 800us/step - loss: 0.3441 - accuracy: 0.9253\n",
      "Epoch 14/100\n",
      "15/15 [==============================] - 0s 933us/step - loss: 0.3300 - accuracy: 0.9209\n",
      "Epoch 15/100\n",
      "15/15 [==============================] - 0s 867us/step - loss: 0.3138 - accuracy: 0.9231\n",
      "Epoch 16/100\n",
      "15/15 [==============================] - 0s 934us/step - loss: 0.2966 - accuracy: 0.9253\n",
      "Epoch 17/100\n",
      "15/15 [==============================] - 0s 933us/step - loss: 0.2784 - accuracy: 0.9209\n",
      "Epoch 18/100\n",
      "15/15 [==============================] - 0s 1ms/step - loss: 0.2607 - accuracy: 0.9231\n",
      "Epoch 19/100\n",
      "15/15 [==============================] - 0s 1ms/step - loss: 0.2445 - accuracy: 0.9253\n",
      "Epoch 20/100\n",
      "15/15 [==============================] - 0s 867us/step - loss: 0.2301 - accuracy: 0.9297\n",
      "Epoch 21/100\n",
      "15/15 [==============================] - 0s 934us/step - loss: 0.2187 - accuracy: 0.9297\n",
      "Epoch 22/100\n",
      "15/15 [==============================] - 0s 867us/step - loss: 0.2087 - accuracy: 0.9297\n",
      "Epoch 23/100\n",
      "15/15 [==============================] - 0s 867us/step - loss: 0.2016 - accuracy: 0.9319\n",
      "Epoch 24/100\n",
      "15/15 [==============================] - 0s 934us/step - loss: 0.1960 - accuracy: 0.9297\n",
      "Epoch 25/100\n",
      "15/15 [==============================] - 0s 1ms/step - loss: 0.1915 - accuracy: 0.9319\n",
      "Epoch 26/100\n",
      "15/15 [==============================] - 0s 867us/step - loss: 0.1878 - accuracy: 0.9275\n",
      "Epoch 27/100\n",
      "15/15 [==============================] - 0s 934us/step - loss: 0.1846 - accuracy: 0.9275\n",
      "Epoch 28/100\n",
      "15/15 [==============================] - 0s 867us/step - loss: 0.1821 - accuracy: 0.9275\n",
      "Epoch 29/100\n",
      "15/15 [==============================] - 0s 934us/step - loss: 0.1793 - accuracy: 0.9297\n",
      "Epoch 30/100\n",
      "15/15 [==============================] - 0s 867us/step - loss: 0.1768 - accuracy: 0.9275\n",
      "Epoch 31/100\n",
      "15/15 [==============================] - 0s 933us/step - loss: 0.1747 - accuracy: 0.9253\n",
      "Epoch 32/100\n",
      "15/15 [==============================] - 0s 933us/step - loss: 0.1732 - accuracy: 0.9275\n",
      "Epoch 33/100\n",
      "15/15 [==============================] - 0s 1ms/step - loss: 0.1714 - accuracy: 0.9297\n",
      "Epoch 34/100\n",
      "15/15 [==============================] - 0s 934us/step - loss: 0.1702 - accuracy: 0.9297\n",
      "Epoch 35/100\n",
      "15/15 [==============================] - 0s 1ms/step - loss: 0.1687 - accuracy: 0.9297\n",
      "Epoch 36/100\n",
      "15/15 [==============================] - 0s 933us/step - loss: 0.1672 - accuracy: 0.9341\n",
      "Epoch 37/100\n",
      "15/15 [==============================] - 0s 867us/step - loss: 0.1661 - accuracy: 0.9319\n",
      "Epoch 38/100\n",
      "15/15 [==============================] - 0s 933us/step - loss: 0.1654 - accuracy: 0.9319\n",
      "Epoch 39/100\n",
      "15/15 [==============================] - 0s 934us/step - loss: 0.1641 - accuracy: 0.9385\n",
      "Epoch 40/100\n",
      "15/15 [==============================] - 0s 933us/step - loss: 0.1633 - accuracy: 0.9363\n",
      "Epoch 41/100\n",
      "15/15 [==============================] - 0s 934us/step - loss: 0.1626 - accuracy: 0.9385\n",
      "Epoch 42/100\n",
      "15/15 [==============================] - 0s 1ms/step - loss: 0.1619 - accuracy: 0.9385\n",
      "Epoch 43/100\n",
      "15/15 [==============================] - 0s 1ms/step - loss: 0.1612 - accuracy: 0.9363\n",
      "Epoch 44/100\n",
      "15/15 [==============================] - 0s 867us/step - loss: 0.1603 - accuracy: 0.9385\n",
      "Epoch 45/100\n",
      "15/15 [==============================] - 0s 1ms/step - loss: 0.1596 - accuracy: 0.9363\n",
      "Epoch 46/100\n",
      "15/15 [==============================] - 0s 1ms/step - loss: 0.1595 - accuracy: 0.9385\n",
      "Epoch 47/100\n",
      "15/15 [==============================] - 0s 1ms/step - loss: 0.1590 - accuracy: 0.9385\n",
      "Epoch 48/100\n",
      "15/15 [==============================] - 0s 1ms/step - loss: 0.1586 - accuracy: 0.9363\n",
      "Epoch 49/100\n",
      "15/15 [==============================] - 0s 1ms/step - loss: 0.1580 - accuracy: 0.9363\n",
      "Epoch 50/100\n",
      "15/15 [==============================] - 0s 1ms/step - loss: 0.1576 - accuracy: 0.9385\n",
      "Epoch 51/100\n",
      "15/15 [==============================] - 0s 1ms/step - loss: 0.1570 - accuracy: 0.9385\n",
      "Epoch 52/100\n",
      "15/15 [==============================] - 0s 1ms/step - loss: 0.1567 - accuracy: 0.9385\n",
      "Epoch 53/100\n",
      "15/15 [==============================] - 0s 1ms/step - loss: 0.1563 - accuracy: 0.9363\n",
      "Epoch 54/100\n",
      "15/15 [==============================] - 0s 1ms/step - loss: 0.1561 - accuracy: 0.9385\n",
      "Epoch 55/100\n",
      "15/15 [==============================] - 0s 1ms/step - loss: 0.1559 - accuracy: 0.9385\n",
      "Epoch 56/100\n",
      "15/15 [==============================] - 0s 1ms/step - loss: 0.1558 - accuracy: 0.9363\n",
      "Epoch 57/100\n",
      "15/15 [==============================] - 0s 1ms/step - loss: 0.1553 - accuracy: 0.9407\n",
      "Epoch 58/100\n",
      "15/15 [==============================] - 0s 1ms/step - loss: 0.1547 - accuracy: 0.9385\n",
      "Epoch 59/100\n",
      "15/15 [==============================] - 0s 1ms/step - loss: 0.1544 - accuracy: 0.9385\n",
      "Epoch 60/100\n",
      "15/15 [==============================] - 0s 1ms/step - loss: 0.1543 - accuracy: 0.9363\n",
      "Epoch 61/100\n",
      "15/15 [==============================] - 0s 1ms/step - loss: 0.1545 - accuracy: 0.9363\n",
      "Epoch 62/100\n",
      "15/15 [==============================] - 0s 1ms/step - loss: 0.1536 - accuracy: 0.9385\n",
      "Epoch 63/100\n",
      "15/15 [==============================] - 0s 1ms/step - loss: 0.1535 - accuracy: 0.9385\n",
      "Epoch 64/100\n",
      "15/15 [==============================] - 0s 1ms/step - loss: 0.1530 - accuracy: 0.9385\n",
      "Epoch 65/100\n",
      "15/15 [==============================] - 0s 1ms/step - loss: 0.1528 - accuracy: 0.9385\n",
      "Epoch 66/100\n",
      "15/15 [==============================] - 0s 933us/step - loss: 0.1522 - accuracy: 0.9363\n",
      "Epoch 67/100\n",
      "15/15 [==============================] - 0s 1ms/step - loss: 0.1522 - accuracy: 0.9363\n",
      "Epoch 68/100\n",
      "15/15 [==============================] - 0s 1ms/step - loss: 0.1517 - accuracy: 0.9363\n",
      "Epoch 69/100\n",
      "15/15 [==============================] - 0s 1ms/step - loss: 0.1517 - accuracy: 0.9385\n",
      "Epoch 70/100\n",
      "15/15 [==============================] - 0s 1ms/step - loss: 0.1514 - accuracy: 0.9385\n",
      "Epoch 71/100\n",
      "15/15 [==============================] - 0s 1ms/step - loss: 0.1504 - accuracy: 0.9407\n",
      "Epoch 72/100\n",
      "15/15 [==============================] - 0s 1ms/step - loss: 0.1510 - accuracy: 0.9385\n",
      "Epoch 73/100\n",
      "15/15 [==============================] - 0s 1ms/step - loss: 0.1503 - accuracy: 0.9407\n",
      "Epoch 74/100\n",
      "15/15 [==============================] - 0s 1ms/step - loss: 0.1500 - accuracy: 0.9407\n",
      "Epoch 75/100\n",
      "15/15 [==============================] - 0s 1ms/step - loss: 0.1502 - accuracy: 0.9407\n",
      "Epoch 76/100\n",
      "15/15 [==============================] - 0s 1ms/step - loss: 0.1494 - accuracy: 0.9407\n",
      "Epoch 77/100\n",
      "15/15 [==============================] - 0s 934us/step - loss: 0.1493 - accuracy: 0.9407\n",
      "Epoch 78/100\n",
      "15/15 [==============================] - 0s 1ms/step - loss: 0.1490 - accuracy: 0.9385\n",
      "Epoch 79/100\n",
      "15/15 [==============================] - 0s 1ms/step - loss: 0.1499 - accuracy: 0.9407\n",
      "Epoch 80/100\n",
      "15/15 [==============================] - 0s 934us/step - loss: 0.1492 - accuracy: 0.9429\n",
      "Epoch 81/100\n",
      "15/15 [==============================] - 0s 933us/step - loss: 0.1486 - accuracy: 0.9385\n",
      "Epoch 82/100\n",
      "15/15 [==============================] - 0s 934us/step - loss: 0.1480 - accuracy: 0.9407\n",
      "Epoch 83/100\n",
      "15/15 [==============================] - 0s 867us/step - loss: 0.1482 - accuracy: 0.9407\n",
      "Epoch 84/100\n",
      "15/15 [==============================] - 0s 867us/step - loss: 0.1478 - accuracy: 0.9429\n",
      "Epoch 85/100\n",
      "15/15 [==============================] - 0s 800us/step - loss: 0.1477 - accuracy: 0.9429\n",
      "Epoch 86/100\n",
      "15/15 [==============================] - 0s 800us/step - loss: 0.1474 - accuracy: 0.9429\n",
      "Epoch 87/100\n",
      "15/15 [==============================] - 0s 934us/step - loss: 0.1471 - accuracy: 0.9429\n",
      "Epoch 88/100\n",
      "15/15 [==============================] - 0s 733us/step - loss: 0.1469 - accuracy: 0.9429\n",
      "Epoch 89/100\n",
      "15/15 [==============================] - 0s 867us/step - loss: 0.1469 - accuracy: 0.9429\n",
      "Epoch 90/100\n",
      "15/15 [==============================] - 0s 800us/step - loss: 0.1466 - accuracy: 0.9429\n",
      "Epoch 91/100\n",
      "15/15 [==============================] - 0s 867us/step - loss: 0.1469 - accuracy: 0.9429\n",
      "Epoch 92/100\n",
      "15/15 [==============================] - 0s 800us/step - loss: 0.1462 - accuracy: 0.9429\n",
      "Epoch 93/100\n",
      "15/15 [==============================] - 0s 867us/step - loss: 0.1461 - accuracy: 0.9429\n",
      "Epoch 94/100\n",
      "15/15 [==============================] - 0s 867us/step - loss: 0.1463 - accuracy: 0.9429\n",
      "Epoch 95/100\n",
      "15/15 [==============================] - 0s 867us/step - loss: 0.1459 - accuracy: 0.9429\n",
      "Epoch 96/100\n",
      "15/15 [==============================] - 0s 867us/step - loss: 0.1460 - accuracy: 0.9429\n",
      "Epoch 97/100\n",
      "15/15 [==============================] - 0s 800us/step - loss: 0.1457 - accuracy: 0.9429\n",
      "Epoch 98/100\n",
      "15/15 [==============================] - 0s 734us/step - loss: 0.1452 - accuracy: 0.9429\n",
      "Epoch 99/100\n",
      "15/15 [==============================] - 0s 733us/step - loss: 0.1454 - accuracy: 0.9429\n",
      "Epoch 100/100\n",
      "15/15 [==============================] - 0s 800us/step - loss: 0.1450 - accuracy: 0.9429\n"
     ]
    },
    {
     "data": {
      "text/plain": [
       "0.9384615384615385"
      ]
     },
     "execution_count": 32,
     "metadata": {},
     "output_type": "execute_result"
    }
   ],
   "source": [
    "#Improvising the ANN - Hyper parameter optimization\n",
    "\n",
    "from tensorflow.keras.wrappers.scikit_learn import KerasClassifier\n",
    "from sklearn.model_selection import cross_val_score\n",
    "from sklearn.model_selection import GridSearchCV\n",
    "from tensorflow.keras.models import Sequential\n",
    "from tensorflow.keras.layers import Dense\n",
    "\n",
    "\n",
    "def build_classifier():\n",
    "    classifier = Sequential()\n",
    "    classifier.add(Dense(units = 16, kernel_initializer = 'uniform', activation = 'relu', input_dim = 5))\n",
    "    classifier.add(Dense(units = 8, kernel_initializer = 'uniform', activation = 'relu'))\n",
    "    classifier.add(Dense(units = 4, kernel_initializer = 'uniform', activation = 'relu'))\n",
    "    classifier.add(Dense(units = 1, kernel_initializer = 'uniform', activation = 'sigmoid'))\n",
    "    classifier.compile(optimizer = 'adam', loss = 'binary_crossentropy', metrics = ['accuracy'])\n",
    "    return classifier\n",
    "\n",
    "\n",
    "classifier = KerasClassifier(build_fn = build_classifier)\n",
    "\n",
    "parameters = {'batch_size': [10, 20, 32, 64, 128, 256],\n",
    "              'epochs': [25, 50, 100, 200, 500]}\n",
    "\n",
    "              # Total combinations: 4\n",
    "\n",
    "grid_search = GridSearchCV(estimator = classifier, param_grid = parameters, scoring = 'accuracy', n_jobs = -1, cv = 5)\n",
    "grid_search = grid_search.fit(X_train, y_train)\n",
    "grid_search.best_params_\n",
    "grid_search.best_score_"
   ]
  },
  {
   "cell_type": "code",
   "execution_count": null,
   "id": "6014a21f",
   "metadata": {
    "id": "6014a21f",
    "outputId": "f69effb0-2ed7-435e-9b9f-603268f19f8f"
   },
   "outputs": [
    {
     "data": {
      "text/plain": [
       "{'batch_size': 32, 'epochs': 100}"
      ]
     },
     "execution_count": 33,
     "metadata": {},
     "output_type": "execute_result"
    }
   ],
   "source": [
    "grid_search.best_params_"
   ]
  },
  {
   "cell_type": "code",
   "execution_count": null,
   "id": "d9c4b20b",
   "metadata": {
    "id": "d9c4b20b",
    "outputId": "7e090491-99dd-4617-dc9e-33f5d4b9b86b"
   },
   "outputs": [
    {
     "data": {
      "text/plain": [
       "0.9384615384615385"
      ]
     },
     "execution_count": 34,
     "metadata": {},
     "output_type": "execute_result"
    }
   ],
   "source": [
    "grid_search.best_score_"
   ]
  },
  {
   "cell_type": "code",
   "execution_count": null,
   "id": "25ccd93c",
   "metadata": {
    "id": "25ccd93c",
    "outputId": "4bec8a88-873f-4e9d-c3e5-3f74ad011c39"
   },
   "outputs": [
    {
     "name": "stdout",
     "output_type": "stream",
     "text": [
      "Epoch 1/200\n",
      "16/16 [==============================] - 0s 1ms/step - loss: 0.6913 - accuracy: 0.6308\n",
      "Epoch 2/200\n",
      "16/16 [==============================] - 0s 1ms/step - loss: 0.6890 - accuracy: 0.6396\n",
      "Epoch 3/200\n",
      "16/16 [==============================] - 0s 938us/step - loss: 0.6867 - accuracy: 0.6396\n",
      "Epoch 4/200\n",
      "16/16 [==============================] - 0s 938us/step - loss: 0.6837 - accuracy: 0.6396\n",
      "Epoch 5/200\n",
      "16/16 [==============================] - 0s 1ms/step - loss: 0.6798 - accuracy: 0.6396\n",
      "Epoch 6/200\n",
      "16/16 [==============================] - 0s 1ms/step - loss: 0.6740 - accuracy: 0.6396\n",
      "Epoch 7/200\n",
      "16/16 [==============================] - 0s 1ms/step - loss: 0.6660 - accuracy: 0.6396\n",
      "Epoch 8/200\n",
      "16/16 [==============================] - 0s 938us/step - loss: 0.6553 - accuracy: 0.6396\n",
      "Epoch 9/200\n",
      "16/16 [==============================] - 0s 1ms/step - loss: 0.6406 - accuracy: 0.6396\n",
      "Epoch 10/200\n",
      "16/16 [==============================] - 0s 1ms/step - loss: 0.6212 - accuracy: 0.6396\n",
      "Epoch 11/200\n",
      "16/16 [==============================] - 0s 1ms/step - loss: 0.5977 - accuracy: 0.6440\n",
      "Epoch 12/200\n",
      "16/16 [==============================] - 0s 938us/step - loss: 0.5700 - accuracy: 0.6527\n",
      "Epoch 13/200\n",
      "16/16 [==============================] - 0s 938us/step - loss: 0.5372 - accuracy: 0.6989\n",
      "Epoch 14/200\n",
      "16/16 [==============================] - 0s 938us/step - loss: 0.5014 - accuracy: 0.7780\n",
      "Epoch 15/200\n",
      "16/16 [==============================] - 0s 938us/step - loss: 0.4643 - accuracy: 0.8418\n",
      "Epoch 16/200\n",
      "16/16 [==============================] - 0s 1ms/step - loss: 0.4262 - accuracy: 0.8923\n",
      "Epoch 17/200\n",
      "16/16 [==============================] - 0s 1ms/step - loss: 0.3905 - accuracy: 0.9187\n",
      "Epoch 18/200\n",
      "16/16 [==============================] - 0s 1ms/step - loss: 0.3561 - accuracy: 0.9209\n",
      "Epoch 19/200\n",
      "16/16 [==============================] - 0s 938us/step - loss: 0.3249 - accuracy: 0.9209\n",
      "Epoch 20/200\n",
      "16/16 [==============================] - 0s 1ms/step - loss: 0.2987 - accuracy: 0.9165\n",
      "Epoch 21/200\n",
      "16/16 [==============================] - 0s 875us/step - loss: 0.2775 - accuracy: 0.9187\n",
      "Epoch 22/200\n",
      "16/16 [==============================] - 0s 875us/step - loss: 0.2581 - accuracy: 0.9209\n",
      "Epoch 23/200\n",
      "16/16 [==============================] - 0s 875us/step - loss: 0.2415 - accuracy: 0.9253\n",
      "Epoch 24/200\n",
      "16/16 [==============================] - 0s 875us/step - loss: 0.2267 - accuracy: 0.9275\n",
      "Epoch 25/200\n",
      "16/16 [==============================] - 0s 875us/step - loss: 0.2147 - accuracy: 0.9319\n",
      "Epoch 26/200\n",
      "16/16 [==============================] - 0s 938us/step - loss: 0.2048 - accuracy: 0.9341\n",
      "Epoch 27/200\n",
      "16/16 [==============================] - 0s 938us/step - loss: 0.1974 - accuracy: 0.9319\n",
      "Epoch 28/200\n",
      "16/16 [==============================] - 0s 1ms/step - loss: 0.1923 - accuracy: 0.9319\n",
      "Epoch 29/200\n",
      "16/16 [==============================] - 0s 938us/step - loss: 0.1884 - accuracy: 0.9275\n",
      "Epoch 30/200\n",
      "16/16 [==============================] - 0s 1ms/step - loss: 0.1854 - accuracy: 0.9275\n",
      "Epoch 31/200\n",
      "16/16 [==============================] - 0s 1ms/step - loss: 0.1834 - accuracy: 0.9275\n",
      "Epoch 32/200\n",
      "16/16 [==============================] - 0s 1ms/step - loss: 0.1821 - accuracy: 0.9297\n",
      "Epoch 33/200\n",
      "16/16 [==============================] - 0s 1ms/step - loss: 0.1810 - accuracy: 0.9275\n",
      "Epoch 34/200\n",
      "16/16 [==============================] - 0s 1ms/step - loss: 0.1801 - accuracy: 0.9319\n",
      "Epoch 35/200\n",
      "16/16 [==============================] - 0s 1ms/step - loss: 0.1799 - accuracy: 0.9275\n",
      "Epoch 36/200\n",
      "16/16 [==============================] - 0s 1ms/step - loss: 0.1798 - accuracy: 0.9297\n",
      "Epoch 37/200\n",
      "16/16 [==============================] - 0s 1ms/step - loss: 0.1791 - accuracy: 0.9297\n",
      "Epoch 38/200\n",
      "16/16 [==============================] - 0s 875us/step - loss: 0.1789 - accuracy: 0.9319\n",
      "Epoch 39/200\n",
      "16/16 [==============================] - 0s 1ms/step - loss: 0.1783 - accuracy: 0.9297\n",
      "Epoch 40/200\n",
      "16/16 [==============================] - 0s 1ms/step - loss: 0.1782 - accuracy: 0.9297\n",
      "Epoch 41/200\n",
      "16/16 [==============================] - 0s 1ms/step - loss: 0.1782 - accuracy: 0.9319\n",
      "Epoch 42/200\n",
      "16/16 [==============================] - 0s 1ms/step - loss: 0.1779 - accuracy: 0.9297\n",
      "Epoch 43/200\n",
      "16/16 [==============================] - 0s 1ms/step - loss: 0.1772 - accuracy: 0.9319\n",
      "Epoch 44/200\n",
      "16/16 [==============================] - 0s 1ms/step - loss: 0.1772 - accuracy: 0.9297\n",
      "Epoch 45/200\n",
      "16/16 [==============================] - 0s 938us/step - loss: 0.1772 - accuracy: 0.9297\n",
      "Epoch 46/200\n",
      "16/16 [==============================] - 0s 938us/step - loss: 0.1771 - accuracy: 0.9319\n",
      "Epoch 47/200\n",
      "16/16 [==============================] - 0s 1ms/step - loss: 0.1768 - accuracy: 0.9341\n",
      "Epoch 48/200\n",
      "16/16 [==============================] - 0s 1ms/step - loss: 0.1765 - accuracy: 0.9319\n",
      "Epoch 49/200\n",
      "16/16 [==============================] - 0s 875us/step - loss: 0.1764 - accuracy: 0.9319\n",
      "Epoch 50/200\n",
      "16/16 [==============================] - 0s 1ms/step - loss: 0.1759 - accuracy: 0.9319\n",
      "Epoch 51/200\n",
      "16/16 [==============================] - 0s 1ms/step - loss: 0.1759 - accuracy: 0.9341\n",
      "Epoch 52/200\n",
      "16/16 [==============================] - 0s 1ms/step - loss: 0.1750 - accuracy: 0.9297\n",
      "Epoch 53/200\n",
      "16/16 [==============================] - 0s 1ms/step - loss: 0.1750 - accuracy: 0.9297\n",
      "Epoch 54/200\n",
      "16/16 [==============================] - 0s 1ms/step - loss: 0.1742 - accuracy: 0.9297\n",
      "Epoch 55/200\n",
      "16/16 [==============================] - 0s 1ms/step - loss: 0.1736 - accuracy: 0.9363\n",
      "Epoch 56/200\n",
      "16/16 [==============================] - 0s 1ms/step - loss: 0.1733 - accuracy: 0.9319\n",
      "Epoch 57/200\n",
      "16/16 [==============================] - 0s 1ms/step - loss: 0.1732 - accuracy: 0.9319\n",
      "Epoch 58/200\n",
      "16/16 [==============================] - 0s 1ms/step - loss: 0.1727 - accuracy: 0.9297\n",
      "Epoch 59/200\n",
      "16/16 [==============================] - 0s 1ms/step - loss: 0.1725 - accuracy: 0.9319\n",
      "Epoch 60/200\n",
      "16/16 [==============================] - 0s 875us/step - loss: 0.1722 - accuracy: 0.9319\n",
      "Epoch 61/200\n",
      "16/16 [==============================] - 0s 938us/step - loss: 0.1720 - accuracy: 0.9341\n",
      "Epoch 62/200\n",
      "16/16 [==============================] - 0s 938us/step - loss: 0.1713 - accuracy: 0.9341\n",
      "Epoch 63/200\n",
      "16/16 [==============================] - 0s 1ms/step - loss: 0.1710 - accuracy: 0.9363\n",
      "Epoch 64/200\n",
      "16/16 [==============================] - 0s 938us/step - loss: 0.1705 - accuracy: 0.9341\n",
      "Epoch 65/200\n",
      "16/16 [==============================] - 0s 938us/step - loss: 0.1701 - accuracy: 0.9319\n",
      "Epoch 66/200\n",
      "16/16 [==============================] - 0s 938us/step - loss: 0.1695 - accuracy: 0.9319\n",
      "Epoch 67/200\n",
      "16/16 [==============================] - 0s 813us/step - loss: 0.1696 - accuracy: 0.9341\n",
      "Epoch 68/200\n",
      "16/16 [==============================] - 0s 1ms/step - loss: 0.1690 - accuracy: 0.9319\n",
      "Epoch 69/200\n",
      "16/16 [==============================] - 0s 1ms/step - loss: 0.1686 - accuracy: 0.9319\n",
      "Epoch 70/200\n",
      "16/16 [==============================] - 0s 1ms/step - loss: 0.1690 - accuracy: 0.9341\n",
      "Epoch 71/200\n",
      "16/16 [==============================] - 0s 1ms/step - loss: 0.1683 - accuracy: 0.9341\n",
      "Epoch 72/200\n",
      "16/16 [==============================] - 0s 938us/step - loss: 0.1680 - accuracy: 0.9319\n",
      "Epoch 73/200\n",
      "16/16 [==============================] - 0s 938us/step - loss: 0.1676 - accuracy: 0.9297\n",
      "Epoch 74/200\n",
      "16/16 [==============================] - 0s 1ms/step - loss: 0.1677 - accuracy: 0.9319\n",
      "Epoch 75/200\n",
      "16/16 [==============================] - 0s 1ms/step - loss: 0.1674 - accuracy: 0.9341\n",
      "Epoch 76/200\n",
      "16/16 [==============================] - 0s 1ms/step - loss: 0.1670 - accuracy: 0.9297\n",
      "Epoch 77/200\n",
      "16/16 [==============================] - 0s 1ms/step - loss: 0.1673 - accuracy: 0.9341\n",
      "Epoch 78/200\n",
      "16/16 [==============================] - 0s 1ms/step - loss: 0.1669 - accuracy: 0.9319\n",
      "Epoch 79/200\n",
      "16/16 [==============================] - 0s 938us/step - loss: 0.1666 - accuracy: 0.9319\n",
      "Epoch 80/200\n",
      "16/16 [==============================] - 0s 1ms/step - loss: 0.1661 - accuracy: 0.9319\n",
      "Epoch 81/200\n",
      "16/16 [==============================] - 0s 938us/step - loss: 0.1664 - accuracy: 0.9319\n",
      "Epoch 82/200\n",
      "16/16 [==============================] - 0s 1ms/step - loss: 0.1657 - accuracy: 0.9297\n",
      "Epoch 83/200\n",
      "16/16 [==============================] - 0s 938us/step - loss: 0.1658 - accuracy: 0.9297\n",
      "Epoch 84/200\n",
      "16/16 [==============================] - 0s 875us/step - loss: 0.1655 - accuracy: 0.9319\n",
      "Epoch 85/200\n",
      "16/16 [==============================] - 0s 938us/step - loss: 0.1656 - accuracy: 0.9297\n",
      "Epoch 86/200\n",
      "16/16 [==============================] - 0s 1ms/step - loss: 0.1649 - accuracy: 0.9297\n",
      "Epoch 87/200\n",
      "16/16 [==============================] - 0s 1ms/step - loss: 0.1655 - accuracy: 0.9319\n",
      "Epoch 88/200\n",
      "16/16 [==============================] - 0s 1ms/step - loss: 0.1648 - accuracy: 0.9297\n",
      "Epoch 89/200\n",
      "16/16 [==============================] - 0s 1ms/step - loss: 0.1646 - accuracy: 0.9319\n",
      "Epoch 90/200\n",
      "16/16 [==============================] - 0s 938us/step - loss: 0.1640 - accuracy: 0.9297\n",
      "Epoch 91/200\n",
      "16/16 [==============================] - 0s 1000us/step - loss: 0.1635 - accuracy: 0.9297\n",
      "Epoch 92/200\n",
      "16/16 [==============================] - 0s 1ms/step - loss: 0.1637 - accuracy: 0.9319\n",
      "Epoch 93/200\n",
      "16/16 [==============================] - 0s 1ms/step - loss: 0.1635 - accuracy: 0.9341\n",
      "Epoch 94/200\n",
      "16/16 [==============================] - 0s 1ms/step - loss: 0.1630 - accuracy: 0.9341\n",
      "Epoch 95/200\n",
      "16/16 [==============================] - 0s 1ms/step - loss: 0.1626 - accuracy: 0.9341\n",
      "Epoch 96/200\n",
      "16/16 [==============================] - 0s 1ms/step - loss: 0.1624 - accuracy: 0.9341\n",
      "Epoch 97/200\n",
      "16/16 [==============================] - 0s 1ms/step - loss: 0.1626 - accuracy: 0.9341\n",
      "Epoch 98/200\n",
      "16/16 [==============================] - 0s 1ms/step - loss: 0.1618 - accuracy: 0.9363\n",
      "Epoch 99/200\n",
      "16/16 [==============================] - 0s 1ms/step - loss: 0.1619 - accuracy: 0.9363\n",
      "Epoch 100/200\n",
      "16/16 [==============================] - 0s 1ms/step - loss: 0.1619 - accuracy: 0.9363\n",
      "Epoch 101/200\n",
      "16/16 [==============================] - 0s 1ms/step - loss: 0.1616 - accuracy: 0.9341\n",
      "Epoch 102/200\n",
      "16/16 [==============================] - 0s 1000us/step - loss: 0.1609 - accuracy: 0.9363\n",
      "Epoch 103/200\n",
      "16/16 [==============================] - 0s 1ms/step - loss: 0.1608 - accuracy: 0.9363\n",
      "Epoch 104/200\n",
      "16/16 [==============================] - 0s 938us/step - loss: 0.1608 - accuracy: 0.9363\n",
      "Epoch 105/200\n",
      "16/16 [==============================] - 0s 1ms/step - loss: 0.1601 - accuracy: 0.9363\n",
      "Epoch 106/200\n",
      "16/16 [==============================] - 0s 1ms/step - loss: 0.1600 - accuracy: 0.9363\n",
      "Epoch 107/200\n",
      "16/16 [==============================] - 0s 933us/step - loss: 0.1595 - accuracy: 0.9363\n",
      "Epoch 108/200\n",
      "16/16 [==============================] - 0s 1ms/step - loss: 0.1591 - accuracy: 0.9363\n",
      "Epoch 109/200\n",
      "16/16 [==============================] - 0s 875us/step - loss: 0.1594 - accuracy: 0.9341\n",
      "Epoch 110/200\n",
      "16/16 [==============================] - 0s 813us/step - loss: 0.1583 - accuracy: 0.9319\n",
      "Epoch 111/200\n",
      "16/16 [==============================] - 0s 875us/step - loss: 0.1582 - accuracy: 0.9363\n",
      "Epoch 112/200\n",
      "16/16 [==============================] - 0s 875us/step - loss: 0.1578 - accuracy: 0.9363\n",
      "Epoch 113/200\n",
      "16/16 [==============================] - 0s 938us/step - loss: 0.1580 - accuracy: 0.9341\n",
      "Epoch 114/200\n",
      "16/16 [==============================] - 0s 1ms/step - loss: 0.1578 - accuracy: 0.9363\n",
      "Epoch 115/200\n",
      "16/16 [==============================] - 0s 875us/step - loss: 0.1570 - accuracy: 0.9363\n",
      "Epoch 116/200\n",
      "16/16 [==============================] - 0s 937us/step - loss: 0.1575 - accuracy: 0.9363\n",
      "Epoch 117/200\n",
      "16/16 [==============================] - 0s 938us/step - loss: 0.1565 - accuracy: 0.9341\n",
      "Epoch 118/200\n",
      "16/16 [==============================] - 0s 938us/step - loss: 0.1565 - accuracy: 0.9363\n",
      "Epoch 119/200\n",
      "16/16 [==============================] - 0s 938us/step - loss: 0.1562 - accuracy: 0.9341\n",
      "Epoch 120/200\n",
      "16/16 [==============================] - 0s 938us/step - loss: 0.1560 - accuracy: 0.9363\n",
      "Epoch 121/200\n",
      "16/16 [==============================] - 0s 1ms/step - loss: 0.1562 - accuracy: 0.9341\n",
      "Epoch 122/200\n",
      "16/16 [==============================] - 0s 875us/step - loss: 0.1553 - accuracy: 0.9363\n",
      "Epoch 123/200\n",
      "16/16 [==============================] - 0s 875us/step - loss: 0.1552 - accuracy: 0.9341\n",
      "Epoch 124/200\n",
      "16/16 [==============================] - 0s 875us/step - loss: 0.1550 - accuracy: 0.9341\n",
      "Epoch 125/200\n",
      "16/16 [==============================] - 0s 875us/step - loss: 0.1545 - accuracy: 0.9363\n",
      "Epoch 126/200\n",
      "16/16 [==============================] - 0s 813us/step - loss: 0.1547 - accuracy: 0.9341\n",
      "Epoch 127/200\n",
      "16/16 [==============================] - 0s 875us/step - loss: 0.1540 - accuracy: 0.9341\n",
      "Epoch 128/200\n",
      "16/16 [==============================] - 0s 875us/step - loss: 0.1540 - accuracy: 0.9341\n",
      "Epoch 129/200\n",
      "16/16 [==============================] - 0s 813us/step - loss: 0.1540 - accuracy: 0.9363\n",
      "Epoch 130/200\n",
      "16/16 [==============================] - 0s 875us/step - loss: 0.1532 - accuracy: 0.9363\n",
      "Epoch 131/200\n",
      "16/16 [==============================] - 0s 875us/step - loss: 0.1534 - accuracy: 0.9341\n",
      "Epoch 132/200\n",
      "16/16 [==============================] - 0s 813us/step - loss: 0.1525 - accuracy: 0.9385\n",
      "Epoch 133/200\n",
      "16/16 [==============================] - 0s 813us/step - loss: 0.1531 - accuracy: 0.9363\n",
      "Epoch 134/200\n",
      "16/16 [==============================] - 0s 875us/step - loss: 0.1528 - accuracy: 0.9363\n",
      "Epoch 135/200\n",
      "16/16 [==============================] - 0s 938us/step - loss: 0.1521 - accuracy: 0.9363\n",
      "Epoch 136/200\n",
      "16/16 [==============================] - 0s 855us/step - loss: 0.1520 - accuracy: 0.9363\n",
      "Epoch 137/200\n",
      "16/16 [==============================] - 0s 938us/step - loss: 0.1514 - accuracy: 0.9363\n",
      "Epoch 138/200\n",
      "16/16 [==============================] - 0s 813us/step - loss: 0.1518 - accuracy: 0.9363\n",
      "Epoch 139/200\n",
      "16/16 [==============================] - 0s 1ms/step - loss: 0.1515 - accuracy: 0.9385\n",
      "Epoch 140/200\n",
      "16/16 [==============================] - 0s 938us/step - loss: 0.1512 - accuracy: 0.9385\n",
      "Epoch 141/200\n",
      "16/16 [==============================] - 0s 813us/step - loss: 0.1516 - accuracy: 0.9363\n",
      "Epoch 142/200\n",
      "16/16 [==============================] - 0s 813us/step - loss: 0.1511 - accuracy: 0.9363\n",
      "Epoch 143/200\n",
      "16/16 [==============================] - 0s 875us/step - loss: 0.1512 - accuracy: 0.9385\n",
      "Epoch 144/200\n",
      "16/16 [==============================] - 0s 813us/step - loss: 0.1507 - accuracy: 0.9385\n",
      "Epoch 145/200\n",
      "16/16 [==============================] - 0s 1000us/step - loss: 0.1506 - accuracy: 0.9385\n",
      "Epoch 146/200\n",
      "16/16 [==============================] - 0s 813us/step - loss: 0.1509 - accuracy: 0.9385\n",
      "Epoch 147/200\n",
      "16/16 [==============================] - 0s 875us/step - loss: 0.1510 - accuracy: 0.9385\n",
      "Epoch 148/200\n",
      "16/16 [==============================] - 0s 875us/step - loss: 0.1502 - accuracy: 0.9385\n",
      "Epoch 149/200\n",
      "16/16 [==============================] - 0s 813us/step - loss: 0.1501 - accuracy: 0.9385\n",
      "Epoch 150/200\n",
      "16/16 [==============================] - 0s 813us/step - loss: 0.1501 - accuracy: 0.9407\n",
      "Epoch 151/200\n",
      "16/16 [==============================] - 0s 1000us/step - loss: 0.1500 - accuracy: 0.9407\n",
      "Epoch 152/200\n",
      "16/16 [==============================] - 0s 875us/step - loss: 0.1492 - accuracy: 0.9407\n",
      "Epoch 153/200\n",
      "16/16 [==============================] - 0s 875us/step - loss: 0.1495 - accuracy: 0.9385\n",
      "Epoch 154/200\n",
      "16/16 [==============================] - 0s 938us/step - loss: 0.1495 - accuracy: 0.9385\n",
      "Epoch 155/200\n",
      "16/16 [==============================] - 0s 875us/step - loss: 0.1492 - accuracy: 0.9407\n",
      "Epoch 156/200\n",
      "16/16 [==============================] - 0s 875us/step - loss: 0.1493 - accuracy: 0.9385\n",
      "Epoch 157/200\n",
      "16/16 [==============================] - 0s 875us/step - loss: 0.1489 - accuracy: 0.9407\n",
      "Epoch 158/200\n",
      "16/16 [==============================] - 0s 813us/step - loss: 0.1486 - accuracy: 0.9407\n",
      "Epoch 159/200\n",
      "16/16 [==============================] - 0s 875us/step - loss: 0.1487 - accuracy: 0.9407\n",
      "Epoch 160/200\n",
      "16/16 [==============================] - 0s 875us/step - loss: 0.1490 - accuracy: 0.9385\n",
      "Epoch 161/200\n",
      "16/16 [==============================] - 0s 875us/step - loss: 0.1485 - accuracy: 0.9385\n",
      "Epoch 162/200\n",
      "16/16 [==============================] - 0s 875us/step - loss: 0.1484 - accuracy: 0.9385\n",
      "Epoch 163/200\n",
      "16/16 [==============================] - 0s 813us/step - loss: 0.1483 - accuracy: 0.9385\n",
      "Epoch 164/200\n",
      "16/16 [==============================] - 0s 875us/step - loss: 0.1481 - accuracy: 0.9407\n",
      "Epoch 165/200\n",
      "16/16 [==============================] - 0s 813us/step - loss: 0.1476 - accuracy: 0.9407\n",
      "Epoch 166/200\n",
      "16/16 [==============================] - 0s 875us/step - loss: 0.1478 - accuracy: 0.9407\n",
      "Epoch 167/200\n",
      "16/16 [==============================] - 0s 875us/step - loss: 0.1481 - accuracy: 0.9385\n",
      "Epoch 168/200\n",
      "16/16 [==============================] - 0s 875us/step - loss: 0.1476 - accuracy: 0.9385\n",
      "Epoch 169/200\n",
      "16/16 [==============================] - 0s 875us/step - loss: 0.1474 - accuracy: 0.9407\n",
      "Epoch 170/200\n",
      "16/16 [==============================] - 0s 813us/step - loss: 0.1473 - accuracy: 0.9385\n",
      "Epoch 171/200\n",
      "16/16 [==============================] - 0s 875us/step - loss: 0.1476 - accuracy: 0.9385\n",
      "Epoch 172/200\n",
      "16/16 [==============================] - 0s 875us/step - loss: 0.1475 - accuracy: 0.9385\n",
      "Epoch 173/200\n",
      "16/16 [==============================] - 0s 875us/step - loss: 0.1469 - accuracy: 0.9429\n",
      "Epoch 174/200\n",
      "16/16 [==============================] - 0s 875us/step - loss: 0.1470 - accuracy: 0.9429\n",
      "Epoch 175/200\n",
      "16/16 [==============================] - 0s 813us/step - loss: 0.1465 - accuracy: 0.9429\n",
      "Epoch 176/200\n",
      "16/16 [==============================] - 0s 1ms/step - loss: 0.1467 - accuracy: 0.9429\n",
      "Epoch 177/200\n",
      "16/16 [==============================] - 0s 938us/step - loss: 0.1465 - accuracy: 0.9429\n",
      "Epoch 178/200\n",
      "16/16 [==============================] - 0s 875us/step - loss: 0.1460 - accuracy: 0.9429\n",
      "Epoch 179/200\n",
      "16/16 [==============================] - 0s 813us/step - loss: 0.1465 - accuracy: 0.9429\n",
      "Epoch 180/200\n",
      "16/16 [==============================] - 0s 875us/step - loss: 0.1467 - accuracy: 0.9407\n",
      "Epoch 181/200\n",
      "16/16 [==============================] - 0s 875us/step - loss: 0.1460 - accuracy: 0.9429\n",
      "Epoch 182/200\n",
      "16/16 [==============================] - 0s 875us/step - loss: 0.1461 - accuracy: 0.9429\n",
      "Epoch 183/200\n",
      "16/16 [==============================] - 0s 875us/step - loss: 0.1462 - accuracy: 0.9429\n",
      "Epoch 184/200\n",
      "16/16 [==============================] - 0s 813us/step - loss: 0.1458 - accuracy: 0.9429\n",
      "Epoch 185/200\n",
      "16/16 [==============================] - 0s 813us/step - loss: 0.1456 - accuracy: 0.9429\n",
      "Epoch 186/200\n",
      "16/16 [==============================] - 0s 813us/step - loss: 0.1459 - accuracy: 0.9407\n",
      "Epoch 187/200\n",
      "16/16 [==============================] - 0s 813us/step - loss: 0.1458 - accuracy: 0.9429\n",
      "Epoch 188/200\n",
      "16/16 [==============================] - 0s 875us/step - loss: 0.1455 - accuracy: 0.9407\n",
      "Epoch 189/200\n",
      "16/16 [==============================] - 0s 875us/step - loss: 0.1452 - accuracy: 0.9429\n",
      "Epoch 190/200\n",
      "16/16 [==============================] - 0s 875us/step - loss: 0.1458 - accuracy: 0.9429\n",
      "Epoch 191/200\n",
      "16/16 [==============================] - 0s 813us/step - loss: 0.1448 - accuracy: 0.9429\n",
      "Epoch 192/200\n",
      "16/16 [==============================] - 0s 875us/step - loss: 0.1448 - accuracy: 0.9429\n",
      "Epoch 193/200\n",
      "16/16 [==============================] - 0s 875us/step - loss: 0.1453 - accuracy: 0.9429\n",
      "Epoch 194/200\n",
      "16/16 [==============================] - 0s 813us/step - loss: 0.1449 - accuracy: 0.9429\n",
      "Epoch 195/200\n",
      "16/16 [==============================] - 0s 875us/step - loss: 0.1447 - accuracy: 0.9429\n",
      "Epoch 196/200\n",
      "16/16 [==============================] - 0s 938us/step - loss: 0.1449 - accuracy: 0.9429\n",
      "Epoch 197/200\n",
      "16/16 [==============================] - 0s 813us/step - loss: 0.1451 - accuracy: 0.9429\n",
      "Epoch 198/200\n",
      "16/16 [==============================] - 0s 938us/step - loss: 0.1441 - accuracy: 0.9429\n",
      "Epoch 199/200\n",
      "16/16 [==============================] - 0s 938us/step - loss: 0.1446 - accuracy: 0.9429\n",
      "Epoch 200/200\n",
      "16/16 [==============================] - 0s 1ms/step - loss: 0.1443 - accuracy: 0.9429\n"
     ]
    }
   ],
   "source": [
    "#Improvising the ANN - Hyper parameter optimization, adding more hyperparameters\n",
    "\n",
    "from tensorflow.keras.wrappers.scikit_learn import KerasClassifier\n",
    "from sklearn.model_selection import cross_val_score\n",
    "from sklearn.model_selection import GridSearchCV\n",
    "from tensorflow.keras.models import Sequential\n",
    "from tensorflow.keras.layers import Dense\n",
    "def build_classifier(loss, optimizer):\n",
    "    classifier = Sequential()\n",
    "    classifier.add(Dense(units = 16, kernel_initializer = 'uniform', activation = 'relu', input_dim = 5))\n",
    "    classifier.add(Dense(units = 8, kernel_initializer = 'uniform', activation = 'relu'))\n",
    "    classifier.add(Dense(units = 8, kernel_initializer = 'uniform', activation = 'relu'))\n",
    "    classifier.add(Dense(units = 4, kernel_initializer = 'uniform', activation = 'relu'))\n",
    "    classifier.add(Dense(units = 1, kernel_initializer = 'uniform', activation = 'sigmoid'))\n",
    "    classifier.compile(optimizer = optimizer, loss = loss, metrics = ['accuracy'])\n",
    "    return classifier\n",
    "\n",
    "\n",
    "classifier = KerasClassifier(build_fn = build_classifier)\n",
    "\n",
    "parameters = {'batch_size': [10,20, 32, 64, 30, 40, 50],\n",
    "              'epochs': [10,50,100,200, 500],\n",
    "              'loss': ['binary_crossentropy'],\n",
    "              'optimizer': ['adam', 'rmsprop', 'adagrad', 'SGD']}\n",
    "\n",
    "grid_search = GridSearchCV(estimator = classifier, param_grid = parameters, scoring = 'accuracy', n_jobs = -1, cv = 10)\n",
    "\n",
    "grid_search = grid_search.fit(X_train, y_train)"
   ]
  },
  {
   "cell_type": "code",
   "execution_count": null,
   "id": "367be130",
   "metadata": {
    "id": "367be130",
    "outputId": "de0cece0-993c-4858-a9eb-ff7776c9744b"
   },
   "outputs": [
    {
     "data": {
      "text/plain": [
       "{'batch_size': 30,\n",
       " 'epochs': 200,\n",
       " 'loss': 'binary_crossentropy',\n",
       " 'optimizer': 'rmsprop'}"
      ]
     },
     "execution_count": 36,
     "metadata": {},
     "output_type": "execute_result"
    }
   ],
   "source": [
    "grid_search.best_params_"
   ]
  },
  {
   "cell_type": "code",
   "execution_count": null,
   "id": "4a2acc7e",
   "metadata": {
    "id": "4a2acc7e"
   },
   "outputs": [],
   "source": [
    "parameters = {'batch_size': [10,20, 32, 64, 30, 40, 50],\n",
    "              'epochs': [10,50,100,200, 500],\n",
    "              'loss': ['binary_crossentropy'],\n",
    "              'optimizer': ['adam', 'rmsprop', 'adagrad', 'SGD']}"
   ]
  },
  {
   "cell_type": "code",
   "execution_count": null,
   "id": "c7ba5305",
   "metadata": {
    "id": "c7ba5305",
    "outputId": "49302dc3-b1a6-42c2-c9e7-048b205089e8"
   },
   "outputs": [
    {
     "data": {
      "text/plain": [
       "0.9407246376811594"
      ]
     },
     "execution_count": 37,
     "metadata": {},
     "output_type": "execute_result"
    }
   ],
   "source": [
    "grid_search.best_score_"
   ]
  },
  {
   "cell_type": "markdown",
   "id": "491f3957",
   "metadata": {
    "id": "491f3957"
   },
   "source": [
    "## Improvising the performance of ANN\n",
    "\n",
    "1. Increasing the number of hidden layers\n",
    "2. Increasing the number of epochs\n",
    "3. Fine-tuning the parameters - optimizers, batch_size, epochs\n",
    "4. Dropout regularization: Dropout(0.25)\n",
    "\n",
    "Overfitting problem --> training accuracy increases, but test accuracy is low"
   ]
  }
 ],
 "metadata": {
  "colab": {
   "provenance": []
  },
  "kernelspec": {
   "display_name": "Python 3 (ipykernel)",
   "language": "python",
   "name": "python3"
  },
  "language_info": {
   "codemirror_mode": {
    "name": "ipython",
    "version": 3
   },
   "file_extension": ".py",
   "mimetype": "text/x-python",
   "name": "python",
   "nbconvert_exporter": "python",
   "pygments_lexer": "ipython3",
   "version": "3.9.12"
  }
 },
 "nbformat": 4,
 "nbformat_minor": 5
}
